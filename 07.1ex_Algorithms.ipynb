{
 "cells": [
  {
   "cell_type": "markdown",
   "metadata": {},
   "source": [
    "1\\. **PCA on 3D dataset**\n",
    "\n",
    "* Generate a dataset with 3 features each with N entries (N being ${\\cal O}(1000)$). With $N(\\mu,\\sigma)$ the normali distribution with mean $\\mu$ and $\\sigma$  standard deviation, generate the 3 variables $x_{1,2,3}$ such that:\n",
    "    * $x_1$ is distributed as $N(0,1)$\n",
    "    * $x_2$ is distributed as $x_1+N(0,3)$\n",
    "    * $x_3$ is given by $2x_1+x_2$\n",
    "* Find the eigenvectors and eigenvalues of the covariance matrix of the dataset\n",
    "* Find the eigenvectors and eigenvalues using SVD. Check that they are two procedure yields to same result\n",
    "* What percent of the total variability is explained by the principal components? Given how the dataset was constructed, do these make sense? Reduce the dimensionality of the system so that at least 99% of the total variability is retained.\n",
    "* Redefine the data in the basis yielded by the PCA procedure\n",
    "* Plot the data points in the original and the new coordiantes as a set of scatter plots. Your final figure should have 2 rows of 3 plots each, where the columns show the (0,1), (0,2) and (1,2) proejctions.\n"
   ]
  },
  {
   "cell_type": "markdown",
   "metadata": {},
   "source": [
    "2\\. **PCA on a nD dataset**\n",
    "\n",
    "Start from the dataset you have genereted in the previous exercise and add uncorrelated random noise. Such noise should be represented by other 10 uncorrelated variables normal distributed, with standar deviation much smaller (say, a factor 50) than those used to generate the $x_1$ and $x_2$.\n",
    "\n",
    "Repeat the PCA procedure and compare the results with what you obtained before"
   ]
  },
  {
   "cell_type": "markdown",
   "metadata": {},
   "source": [
    "3 \\. **Looking at an oscillating spring** (optional)\n",
    "\n",
    "Imagine you have $n$ cameras looking at a spring oscillating along the $x$ axis. Each  camera record the motion of the spring looking at it along a given direction defined by the pair $(\\theta_i, \\phi_i)$, the angles in spherical coordinates. \n",
    "\n",
    "Start from the simulation of the records (say ${\\cal O}(1000)$) of the spring's motion along the x axis, assuming a little random noise affects the measurements along the $y$. Rotate such dataset to emulate the records of each camera.\n",
    "\n",
    "Perform a Principal Component Analysis on the thus obtained dataset, aiming at finding the only one coordinate that really matters.\n"
   ]
  },
  {
   "cell_type": "markdown",
   "metadata": {},
   "source": [
    "4\\. **PCA on the MAGIC dataset** (optional)\n",
    "\n",
    "Perform a PCA on the magic04.data dataset"
   ]
  },
  {
   "cell_type": "code",
   "execution_count": null,
   "metadata": {
    "scrolled": true
   },
   "outputs": [],
   "source": [
    "import numpy as np\n",
    "import pandas as pd\n",
    "import scipy as sp\n",
    "import matplotlib.pyplot as plt\n",
    "%matplotlib inline\n",
    "\n",
    "N = 1000\n",
    "\n",
    "np.random.seed(12314)\n",
    "\n",
    "x1 = np.random.normal(0, 1, N)\n",
    "x2 = x1 + np.random.normal(0, 3, N)\n",
    "x3 = 2*x1 + x2\n",
    "\n",
    "x = np.array([x1,x2,x3])\n",
    "x = pd.DataFrame(x)\n",
    "\n",
    "l, V = np.linalg.eig(np.cov(x, rowvar=False))\n",
    "\n",
    "U, spectrum, Vt = np.linalg.svd(x)\n",
    "\n",
    "eigenvalues = spectrum**2/(N-1)\n",
    "eigenvectors = U\n",
    "\n",
    "\n",
    "x_new = np.dot(U.T, x)\n",
    "x_new = pd.DataFrame(x_new.T)\n",
    "\n",
    "\n",
    "fig, axs = plt.subplots(nrows=2, ncols=3, figsize=(30, 20))\n",
    "axs[0,0].scatter(x.iloc[:,0],x.iloc[:,1],label='set')\n",
    "axs[0,0].set_title(\"x 1 vs 0 \",fontsize=30)\n",
    "axs[0,1].scatter(x.iloc[:,0],x.iloc[:,2],label='set')\n",
    "axs[0,1].set_title(\"x 2 vs 0 \",fontsize=30)\n",
    "axs[0,2].scatter(x.iloc[:,1],x.iloc[:,2],label='set') \n",
    "axs[0,2].set_title(\"x 2 vs 1 \",fontsize=30)\n",
    "\n",
    "axs[1,0].scatter(x_new[0,:],x_new[0,:],label='set')\n",
    "axs[1,0].set_title(\"x_new 1 vs 0 \",fontsize=30)\n",
    "axs[1,1].scatter(x_new[0,:],x_new[2,:],label='set')\n",
    "axs[1,1].set_title(\"x_new 2 vs 0 \",fontsize=30)\n",
    "axs[1,2].scatter(x_new[1,:],x_new[2,:],label='set') \n",
    "axs[1,2].set_title(\"x_new 2 vs 1\",fontsize=30)"
   ]
  },
  {
   "cell_type": "code",
   "execution_count": null,
   "metadata": {},
   "outputs": [],
   "source": []
  }
 ],
 "metadata": {
  "kernelspec": {
   "display_name": "Python 3",
   "language": "python",
   "name": "python3"
  },
  "language_info": {
   "codemirror_mode": {
    "name": "ipython",
    "version": 3
   },
   "file_extension": ".py",
   "mimetype": "text/x-python",
   "name": "python",
   "nbconvert_exporter": "python",
   "pygments_lexer": "ipython3",
   "version": "3.7.2"
  }
 },
 "nbformat": 4,
 "nbformat_minor": 2
}
